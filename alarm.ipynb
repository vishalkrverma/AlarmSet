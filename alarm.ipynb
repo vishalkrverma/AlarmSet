from tkinter import *
from tkinter import filedialog
from playsound import *
import datetime
import threading
import time
import os

# Global variables
alarms = []
selected_sound_path = "default_alarm.wav"  # Default sound path (replace with your .wav file if needed)

# Live clock update function
def update_current_time():
    current_time = datetime.datetime.now().strftime("%H:%M:%S")
    current_time_label.config(text="Current Time: " + current_time)
    root.after(1000, update_current_time)

# Browse for a .wav sound file
def browse_sound():
    global selected_sound_path
    path = filedialog.askopenfilename(filetypes=[("WAV files", "*.wav")])
    if path:
        selected_sound_path = path
        sound_label.config(text=os.path.basename(path))

# Set the alarm
def set_alarm():
    alarm_time = f"{hour.get()}:{minute.get()}:{second.get()}"
    if alarm_time not in alarms:
        alarms.append(alarm_time)
        alarm_listbox.insert(END, alarm_time)

# Alarm checker thread
def alarm_checker():
    triggered = set()
    while True:
        now = datetime.datetime.now().strftime("%H:%M:%S")
        for alarm_time in alarms:
            if now == alarm_time and alarm_time not in triggered:
                triggered.add(alarm_time)
                alarm_message()
        time.sleep(1)

# Alarm action
def alarm_message():
    print("⏰ Time to Wake up!")
    if os.path.exists(selected_sound_path):
        try:
            playsound(selected_sound_path)
        except Exception as e:
            print(f"Error playing sound: {e}")
    else:
        print("⚠️ Alarm sound file not found.")

# Start alarm thread
def start_alarm_thread():
    t = threading.Thread(target=alarm_checker)
    t.daemon = True
    t.start()

# GUI setup
root = Tk()
root.geometry("450x370")
root.title("Alarm Clock")

# Header
Label(root, text="⏰ Alarm Clock", font=("Helvetica", 20, "bold"), fg="red").pack(pady=10)

# Live time display
current_time_label = Label(root, text="", font=("Helvetica", 12))
current_time_label.pack()
update_current_time()

# Time input
Label(root, text="Set Time", font=("Helvetica", 15, "bold")).pack(pady=5)

frame = Frame(root)
frame.pack()

hour = StringVar(value="00")
minute = StringVar(value="00")
second = StringVar(value="00")

hours = [str(i).zfill(2) for i in range(24)]
minutes = [str(i).zfill(2) for i in range(60)]
seconds = [str(i).zfill(2) for i in range(60)]

OptionMenu(frame, hour, *hours).pack(side=LEFT)
OptionMenu(frame, minute, *minutes).pack(side=LEFT)
OptionMenu(frame, second, *seconds).pack(side=LEFT)

Button(root, text="Set Alarm", font=("Helvetica", 12), command=set_alarm).pack(pady=10)

# Alarm List Display
Label(root, text="Scheduled Alarms:", font=("Helvetica", 12, "underline")).pack()
alarm_listbox = Listbox(root, height=5)
alarm_listbox.pack(pady=5)

# Sound selection
sound_frame = Frame(root)
sound_frame.pack(pady=10)
Button(sound_frame, text="🔊 Choose Sound", command=browse_sound).pack(side=LEFT)
sound_label = Label(sound_frame, text=os.path.basename(selected_sound_path))
sound_label.pack(side=LEFT, padx=5)

# Start background alarm checker
start_alarm_thread()

# Start GUI loop
root.mainloop()
